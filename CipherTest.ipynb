{
 "cells": [
  {
   "cell_type": "code",
   "execution_count": 57,
   "metadata": {},
   "outputs": [
    {
     "name": "stdout",
     "output_type": "stream",
     "text": [
      "Enter String to Encrypt :fjdjn&%dshs#123\n",
      "Cipher Key is :  44\n",
      "Encrypted String is: ffffffffffffffffffffffffffffffffffffffffffffjjjjjjjjjjjjjjjjjjjjjjjjjjjjjjjjjjjjjjjjjjjjddddddddddddddddddddddddddddddddddddddddddddjjjjjjjjjjjjjjjjjjjjjjjjjjjjjjjjjjjjjjjjjjjjnnnnnnnnnnnnnnnnnnnnnnnnnnnnnnnnnnnnnnnnnnnn&%ddddddddddddddddddddddddddddddddddddddddddddsssssssssssssssssssssssssssssssssssssssssssshhhhhhhhhhhhhhhhhhhhhhhhhhhhhhhhhhhhhhhhhhhhssssssssssssssssssssssssssssssssssssssssssss#111111111111111111111111111111111111111111112222222222222222222222222222222222222222222233333333333333333333333333333333333333333333 \n",
      "\n",
      "Decrypted String is: fjdjn&%dshs#123 \n",
      "\n",
      "Input String : fjdjn&%dshs#123  and Decrypted String  fjdjn&%dshs#123  Equal or Not:  True\n"
     ]
    }
   ],
   "source": [
    "import random\n",
    "import re\n",
    "class Cipher:\n",
    "    key = random.randint(1,51)\n",
    "    #key = 4\n",
    "    def __init__(self):\n",
    "        pass\n",
    "   \n",
    "    def encryptLetters1(self,str):\n",
    "        for letter in str: \n",
    "            if letter.isalnum():\n",
    "                yield letter*self.key\n",
    "            else:\n",
    "                yield letter\n",
    "    \n",
    "    def encryptLetters2(self,str):\n",
    "        self.splChars = []\n",
    "        for index in range(0,len(str)): \n",
    "            if str[index].isalnum():\n",
    "                yield chr(ord(str[index]) + (key))\n",
    "            else:\n",
    "                splChars.append(str[index])\n",
    "                yield letter\n",
    "    \n",
    "    def decryptLetters2(self,str):\n",
    "        for letter in str:\n",
    "            if letter not in splChars:\n",
    "                yield chr(ord(letter) - int(key))\n",
    "            else:\n",
    "                yield letter\n",
    "            \n",
    "    def encrypt(self,strToEncrypt):\n",
    "        return ''.join(self.encryptLetters1(strToEncrypt))\n",
    "    def decryptLetters1(self,strToDecrypt):\n",
    "        finalStr1 = ''\n",
    "        length = len(strToDecrypt)\n",
    "        index = 0\n",
    "        while index < length:\n",
    "            a = strToDecrypt[index]\n",
    "            finalStr1 += a\n",
    "            if strToDecrypt[index].isalnum():\n",
    "                index = index+self.key\n",
    "            else:\n",
    "                index = index+1\n",
    "        return finalStr1\n",
    "        \n",
    "    def decrypt(self,strToDecrypt):\n",
    "        return ''.join(self.decryptLetters1(strToDecrypt))\n",
    "\n",
    "cipher = Cipher()\n",
    "inputStr = input(\"Enter String to Encrypt :\")\n",
    "print(\"Cipher Key is : \",cipher.key)\n",
    "encryptedStr= cipher.encrypt(inputStr)\n",
    "decryptedStr = cipher.decrypt(encryptedStr)\n",
    "print(\"Encrypted String is:\",encryptedStr,'\\n')\n",
    "print(\"Decrypted String is:\",decryptedStr,'\\n')\n",
    "print(\"Input String :\",inputStr,\" and Decrypted String \",decryptedStr,\" Equal or Not: \", (str(inputStr)==str(decryptedStr)))"
   ]
  },
  {
   "cell_type": "code",
   "execution_count": null,
   "metadata": {},
   "outputs": [],
   "source": []
  },
  {
   "cell_type": "code",
   "execution_count": null,
   "metadata": {},
   "outputs": [],
   "source": []
  },
  {
   "cell_type": "code",
   "execution_count": null,
   "metadata": {},
   "outputs": [],
   "source": []
  }
 ],
 "metadata": {
  "kernelspec": {
   "display_name": "Python 3",
   "language": "python",
   "name": "python3"
  }
 },
 "nbformat": 4,
 "nbformat_minor": 2
}
